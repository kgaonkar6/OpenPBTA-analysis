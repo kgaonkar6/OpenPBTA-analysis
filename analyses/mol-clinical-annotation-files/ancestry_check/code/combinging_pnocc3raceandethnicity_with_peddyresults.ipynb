{
 "cells": [
  {
   "cell_type": "markdown",
   "metadata": {},
   "source": [
    "###### This script combines KF import manifest file that Payal shared with. peddy results \n",
    "- Manifest file was downloaded from here - https://docs.google.com/spreadsheets/d/1LRAuglLBzkKRhjzS9PtgVhqYMJqjlovDT-8-_jlJp5E/edit#gid=1976933349\n",
    "\n"
   ]
  },
  {
   "cell_type": "code",
   "execution_count": 13,
   "metadata": {},
   "outputs": [],
   "source": [
    "import pandas as pd "
   ]
  },
  {
   "cell_type": "code",
   "execution_count": 14,
   "metadata": {},
   "outputs": [],
   "source": [
    "pnoc003_file = pd.read_csv(\"../inputs/PNOC003_from_payal.txt\", sep=\"\\t\")\n",
    "\n",
    "peddy_pnoc003 = pd.read_csv(\"../outfiles/PNOC003_samples_ancestry.txt\", sep=\"\\t\")\n",
    "peddy_cbttc = pd.read_csv(\"../outfiles/CBTTC_samples_ancestry.txt\", sep=\"\\t\")\n",
    "pnoc003_and_cbttc_ancestry = pd.concat([peddy_pnoc003, peddy_cbttc])\n",
    "\n",
    "\n"
   ]
  },
  {
   "cell_type": "code",
   "execution_count": 15,
   "metadata": {},
   "outputs": [],
   "source": [
    "out = pd.merge(pnoc003_file, pnoc003_and_cbttc_ancestry, \n",
    "                                        on='cohort_participant_id', how=\"outer\").fillna(\"NA\")\n"
   ]
  },
  {
   "cell_type": "code",
   "execution_count": 16,
   "metadata": {},
   "outputs": [],
   "source": [
    "out = out[['Kids_First_Biospecimen_ID', 'sample_id', 'aliquot_id',\n",
    "       'Kids_First_Participant_ID', 'cohort_participant_id',\n",
    "       'parent_aliquot_id', 'cohort', 'reported_gender',\n",
    "       'germline_sex_estimate', 'ancestry', 'race', 'ethnicity', 'sample_type',\n",
    "       'composition', 'tumor_descriptor', 'primary_site',\n",
    "       'age_at_diagnosis_days', 'pathology_diagnosis', 'experimental_strategy',\n",
    "       'glioma_brain_region', 'integrated_diagnosis', 'short_histology',\n",
    "       'broad_histology', 'broad_composition', 'Notes', 'RNA_library',\n",
    "       'os_days', 'os_status', 'age_last_update_days', 'seq_center',\n",
    "       'normal_fraction', 'tumor_fraction', 'tumor_ploidy',\n",
    "       'cancer_predispositions', 'cancer_predisposition', 'molecular_subtype']]"
   ]
  },
  {
   "cell_type": "code",
   "execution_count": 17,
   "metadata": {},
   "outputs": [],
   "source": [
    "out.to_csv(\"../outfiles/manifest_peddy_race_and_ethnicity.tsv\", sep=\"\\t\", index=None)"
   ]
  },
  {
   "cell_type": "code",
   "execution_count": null,
   "metadata": {},
   "outputs": [],
   "source": []
  }
 ],
 "metadata": {
  "kernelspec": {
   "display_name": "Python 3",
   "language": "python",
   "name": "python3"
  },
  "language_info": {
   "codemirror_mode": {
    "name": "ipython",
    "version": 3
   },
   "file_extension": ".py",
   "mimetype": "text/x-python",
   "name": "python",
   "nbconvert_exporter": "python",
   "pygments_lexer": "ipython3",
   "version": "3.7.6"
  }
 },
 "nbformat": 4,
 "nbformat_minor": 4
}
