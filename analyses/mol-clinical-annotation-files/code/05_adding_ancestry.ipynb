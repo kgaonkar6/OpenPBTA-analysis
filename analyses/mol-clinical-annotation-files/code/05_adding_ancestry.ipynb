{
 "cells": [
  {
   "cell_type": "code",
   "execution_count": 1,
   "metadata": {
    "execution": {
     "iopub.execute_input": "2020-12-08T21:57:01.678956Z",
     "iopub.status.busy": "2020-12-08T21:57:01.678132Z",
     "iopub.status.idle": "2020-12-08T21:57:02.055172Z",
     "shell.execute_reply": "2020-12-08T21:57:02.055559Z"
    },
    "papermill": {
     "duration": 0.386036,
     "end_time": "2020-12-08T21:57:02.055731",
     "exception": false,
     "start_time": "2020-12-08T21:57:01.669695",
     "status": "completed"
    },
    "tags": []
   },
   "outputs": [],
   "source": [
    "import pandas as pd \n",
    "import numpy as np"
   ]
  },
  {
   "cell_type": "code",
   "execution_count": 2,
   "metadata": {
    "execution": {
     "iopub.execute_input": "2020-12-08T21:57:02.068513Z",
     "iopub.status.busy": "2020-12-08T21:57:02.067773Z",
     "iopub.status.idle": "2020-12-08T21:57:02.073194Z",
     "shell.execute_reply": "2020-12-08T21:57:02.073682Z"
    },
    "papermill": {
     "duration": 0.013943,
     "end_time": "2020-12-08T21:57:02.073803",
     "exception": false,
     "start_time": "2020-12-08T21:57:02.059860",
     "status": "completed"
    },
    "tags": []
   },
   "outputs": [],
   "source": [
    "# This file has all the samples that have ancestry information (only ones that have germline VCF files)\n",
    "ancestry_file = pd.read_csv(\"ancestry_check/output/CBTTC_and_PNOC003.txt\", sep=\"\\t\")"
   ]
  },
  {
   "cell_type": "code",
   "execution_count": 3,
   "metadata": {
    "execution": {
     "iopub.execute_input": "2020-12-08T21:57:02.085748Z",
     "iopub.status.busy": "2020-12-08T21:57:02.085208Z",
     "iopub.status.idle": "2020-12-08T21:57:02.087808Z",
     "shell.execute_reply": "2020-12-08T21:57:02.088187Z"
    },
    "papermill": {
     "duration": 0.010597,
     "end_time": "2020-12-08T21:57:02.088307",
     "exception": false,
     "start_time": "2020-12-08T21:57:02.077710",
     "status": "completed"
    },
    "tags": []
   },
   "outputs": [],
   "source": [
    "# removing row 35 with \"ancestry\" \\t \"case_id\"\n",
    "ancestry_file = ancestry_file[ancestry_file['ancestry'] != 'ancestry']"
   ]
  },
  {
   "cell_type": "code",
   "execution_count": 4,
   "metadata": {
    "execution": {
     "iopub.execute_input": "2020-12-08T21:57:02.103383Z",
     "iopub.status.busy": "2020-12-08T21:57:02.101793Z",
     "iopub.status.idle": "2020-12-08T21:57:02.106901Z",
     "shell.execute_reply": "2020-12-08T21:57:02.107475Z"
    },
    "papermill": {
     "duration": 0.013742,
     "end_time": "2020-12-08T21:57:02.107605",
     "exception": false,
     "start_time": "2020-12-08T21:57:02.093863",
     "status": "completed"
    },
    "tags": []
   },
   "outputs": [],
   "source": [
    "#Renaming column to cohort_participant_id so we can use merge with annotation files\n",
    "ancestry_file = ancestry_file.rename(columns={\"case_id\": \"cohort_participant_id\"})"
   ]
  },
  {
   "cell_type": "code",
   "execution_count": 5,
   "metadata": {
    "execution": {
     "iopub.execute_input": "2020-12-08T21:57:02.119977Z",
     "iopub.status.busy": "2020-12-08T21:57:02.119246Z",
     "iopub.status.idle": "2020-12-08T21:57:02.221205Z",
     "shell.execute_reply": "2020-12-08T21:57:02.220517Z"
    },
    "papermill": {
     "duration": 0.109677,
     "end_time": "2020-12-08T21:57:02.221362",
     "exception": false,
     "start_time": "2020-12-08T21:57:02.111685",
     "status": "completed"
    },
    "tags": []
   },
   "outputs": [],
   "source": [
    "annot1 = pd.read_csv(\"output/annotation_files/pbta-histologies.tsv\", sep=\"\\t\")"
   ]
  },
  {
   "cell_type": "code",
   "execution_count": 6,
   "metadata": {
    "execution": {
     "iopub.execute_input": "2020-12-08T21:57:02.242905Z",
     "iopub.status.busy": "2020-12-08T21:57:02.242125Z",
     "iopub.status.idle": "2020-12-08T21:57:02.244686Z",
     "shell.execute_reply": "2020-12-08T21:57:02.245447Z"
    },
    "papermill": {
     "duration": 0.017681,
     "end_time": "2020-12-08T21:57:02.245618",
     "exception": false,
     "start_time": "2020-12-08T21:57:02.227937",
     "status": "completed"
    },
    "tags": []
   },
   "outputs": [],
   "source": [
    "# This fucntio will take annotation and ancestry file with \"cohort_participant_id\" and merge those\n",
    "# Sin ce we are doing an outer merge, any sample with no ancestry will have \"NA\" as value \n",
    "# If peddy was not able to determine population, value will be \"UNKNOWN\"\n",
    "# It will also remove PNOC008 samples \n",
    "def merge_ancestry_and_annotation(ancestry_df, annotation_df):\n",
    "    merged_df = pd.merge(annotation_df,ancestry_df, on=[\n",
    "    'cohort_participant_id'], how=\"outer\").fillna(\"NA\")\n",
    "    #merged_df = merged_df[merged_df[\"cohort\"]  != \"PNOC008\"]\n",
    "    return(merged_df)"
   ]
  },
  {
   "cell_type": "code",
   "execution_count": 7,
   "metadata": {
    "execution": {
     "iopub.execute_input": "2020-12-08T21:57:02.262654Z",
     "iopub.status.busy": "2020-12-08T21:57:02.261444Z",
     "iopub.status.idle": "2020-12-08T21:57:02.345208Z",
     "shell.execute_reply": "2020-12-08T21:57:02.345812Z"
    },
    "papermill": {
     "duration": 0.094018,
     "end_time": "2020-12-08T21:57:02.345993",
     "exception": false,
     "start_time": "2020-12-08T21:57:02.251975",
     "status": "completed"
    },
    "tags": []
   },
   "outputs": [],
   "source": [
    "# Create new annotation files with ancestry and no PNOC008 samples \n",
    "annot1_out = merge_ancestry_and_annotation( annot1,ancestry_file)\n"
   ]
  },
  {
   "cell_type": "code",
   "execution_count": 8,
   "metadata": {
    "execution": {
     "iopub.execute_input": "2020-12-08T21:57:02.367147Z",
     "iopub.status.busy": "2020-12-08T21:57:02.366056Z",
     "iopub.status.idle": "2020-12-08T21:57:02.461654Z",
     "shell.execute_reply": "2020-12-08T21:57:02.462225Z"
    },
    "papermill": {
     "duration": 0.109121,
     "end_time": "2020-12-08T21:57:02.462401",
     "exception": false,
     "start_time": "2020-12-08T21:57:02.353280",
     "status": "completed"
    },
    "tags": []
   },
   "outputs": [],
   "source": [
    "annot1_out.to_csv(\"output/annotation_files/pbta-histologies.tsv\", sep=\"\\t\",index=False)\n"
   ]
  }
 ],
 "metadata": {
  "kernelspec": {
   "display_name": "Python 3",
   "language": "python",
   "name": "python3"
  },
  "language_info": {
   "codemirror_mode": {
    "name": "ipython",
    "version": 3
   },
   "file_extension": ".py",
   "mimetype": "text/x-python",
   "name": "python",
   "nbconvert_exporter": "python",
   "pygments_lexer": "ipython3",
   "version": "3.7.1"
  },
  "papermill": {
   "duration": 2.107697,
   "end_time": "2020-12-08T21:57:02.781916",
   "environment_variables": {},
   "exception": null,
   "input_path": "code/05_adding_ancestry.ipynb",
   "output_path": "code/05_adding_ancestry.ipynb",
   "parameters": {},
   "start_time": "2020-12-08T21:57:00.674219",
   "version": "2.1.3"
  }
 },
 "nbformat": 4,
 "nbformat_minor": 2
}